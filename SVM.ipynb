{
 "cells": [
  {
   "cell_type": "markdown",
   "metadata": {},
   "source": [
    "# Support Vector Machine"
   ]
  },
  {
   "cell_type": "markdown",
   "metadata": {},
   "source": [
    "**Importing necessary libraries**"
   ]
  },
  {
   "cell_type": "code",
   "execution_count": 1,
   "metadata": {},
   "outputs": [],
   "source": [
    "import numpy as np\n",
    "import pandas as pd\n",
    "from sklearn.svm import LinearSVC\n",
    "from sklearn.model_selection import train_test_split\n",
    "from sklearn.model_selection import GridSearchCV, RandomizedSearchCV\n",
    "from sklearn.metrics import confusion_matrix, roc_auc_score\n",
    "import matplotlib.pyplot as plt"
   ]
  },
  {
   "cell_type": "markdown",
   "metadata": {},
   "source": [
    "**Importing the preprocessed training dataset**"
   ]
  },
  {
   "cell_type": "code",
   "execution_count": 2,
   "metadata": {},
   "outputs": [],
   "source": [
    "reviews_df = pd.read_csv(\"preprocessed_data_max.csv\")"
   ]
  },
  {
   "cell_type": "markdown",
   "metadata": {},
   "source": [
    "**The review and the review_clean feature are not of much importance here, so we will not consider them for training**"
   ]
  },
  {
   "cell_type": "code",
   "execution_count": 3,
   "metadata": {},
   "outputs": [],
   "source": [
    "label = \"is_bad_review\"\n",
    "ignore_cols = [label, \"review\", \"review_clean\"]\n",
    "features = [c for c in reviews_df.columns if c not in ignore_cols]\n",
    "\n",
    "X = reviews_df[features]\n",
    "y = reviews_df[label]"
   ]
  },
  {
   "cell_type": "markdown",
   "metadata": {},
   "source": [
    "**We will tune the model with the help of Holdout Validation. Creating a seperate validation dataset for the same**"
   ]
  },
  {
   "cell_type": "code",
   "execution_count": 4,
   "metadata": {},
   "outputs": [],
   "source": [
    "X_train, X_val, y_train, y_val = train_test_split(X, y, random_state = 42, test_size = 0.2)"
   ]
  },
  {
   "cell_type": "code",
   "execution_count": 5,
   "metadata": {},
   "outputs": [],
   "source": [
    "from sklearn.metrics import accuracy_score\n",
    "from sklearn.metrics import make_scorer\n",
    "scoring = {'AUC': 'roc_auc', 'Accuracy': make_scorer(accuracy_score)}"
   ]
  },
  {
   "cell_type": "markdown",
   "metadata": {},
   "source": [
    "**Since our dataset is very large, it is not recommended to use Polynomial or Gaussian Kernels, hence we will use LinearSVC for classification. It only has one hyperparameter, which is the Regularisation Parameter**"
   ]
  },
  {
   "cell_type": "code",
   "execution_count": 6,
   "metadata": {},
   "outputs": [],
   "source": [
    "C = [0.01, 0.02, 0.03, 0.04, 0.05, 0.06, 0.08, 0.1, 0.2, 0.4, 0.8, 1]"
   ]
  },
  {
   "cell_type": "markdown",
   "metadata": {},
   "source": [
    "**Training and validating the model based on AUC Score**"
   ]
  },
  {
   "cell_type": "code",
   "execution_count": 7,
   "metadata": {},
   "outputs": [],
   "source": [
    "auc_train_C = []\n",
    "auc_test_C = []\n",
    "\n",
    "for c in C:\n",
    "        rfc = LinearSVC(dual = False, C = c, max_iter = 10000)\n",
    "        rfc.fit(X_train, y_train)\n",
    "        y1 = rfc.predict(X_train)\n",
    "        auc_train = roc_auc_score(y_train, y1)\n",
    "        auc_train_C.append(auc_train)\n",
    "        y2 = rfc.predict(X_val)\n",
    "        auc_val = roc_auc_score(y_val, y2)\n",
    "        auc_test_C.append(auc_val)"
   ]
  },
  {
   "cell_type": "markdown",
   "metadata": {},
   "source": [
    "**The results obtained are represented graphically**"
   ]
  },
  {
   "cell_type": "code",
   "execution_count": 8,
   "metadata": {},
   "outputs": [
    {
     "data": {
      "image/png": "[encoded data removed]",
      "text/plain": [
       "<Figure size 864x360 with 1 Axes>"
      ]
     },
     "metadata": {
      "needs_background": "light"
     },
     "output_type": "display_data"
    }
   ],
   "source": [
    "plt.figure(figsize=(12,5))\n",
    "plt.title(\"Evaluating for C using AUC Score\",\n",
    "          fontsize=12)\n",
    "\n",
    "\n",
    "ax = plt.gca()\n",
    "\n",
    "plt.xlabel(\"C\")\n",
    "plt.ylabel(\"Score\")\n",
    "\n",
    "\n",
    "mean_test_AUC = []\n",
    "mean_train_AUC = []\n",
    "\n",
    "plt.plot(C, auc_train_C, color = 'blue', label = 'Training')\n",
    "plt.plot(C, auc_test_C, color = 'red', label = 'Validation')\n",
    "\n",
    "\n",
    "plt.legend(loc=\"best\")\n",
    "plt.grid(False)\n",
    "plt.show()"
   ]
  },
  {
   "cell_type": "markdown",
   "metadata": {},
   "source": [
    "**We see that the the AUC Score increases rapidly with a small increase in C, but starts decreasing with further increase in C, representing overfitting. We observe that a C value of 0.04 will be the best hyperparameter for our model**"
   ]
  },
  {
   "cell_type": "markdown",
   "metadata": {},
   "source": [
    "**Training the model based on the chosen parameters**"
   ]
  },
  {
   "cell_type": "code",
   "execution_count": null,
   "metadata": {},
   "outputs": [],
   "source": [
    "svx = LinearSVC(C = 0.04, dual = False, max_iter = 10000)"
   ]
  },
  {
   "cell_type": "code",
   "execution_count": null,
   "metadata": {},
   "outputs": [],
   "source": [
    "svc.fit(X_train, y_train)"
   ]
  },
  {
   "cell_type": "code",
   "execution_count": 28,
   "metadata": {},
   "outputs": [],
   "source": [
    "y1 = svc.predict(X_train)"
   ]
  },
  {
   "cell_type": "code",
   "execution_count": 29,
   "metadata": {},
   "outputs": [],
   "source": [
    "from sklearn.metrics import accuracy_score, roc_auc_score, roc_curve, f1_score,  precision_score, recall_score"
   ]
  },
  {
   "cell_type": "markdown",
   "metadata": {},
   "source": [
    "**Evaluating the results based on training data**"
   ]
  },
  {
   "cell_type": "code",
   "execution_count": 30,
   "metadata": {},
   "outputs": [
    {
     "name": "stdout",
     "output_type": "stream",
     "text": [
      "Accuracy : 0.8636079545454546\n",
      "AUC Score : 0.8574606419262684\n",
      "F1 Score : 0.8301312670275625\n",
      "Precision : 0.8347683768590337\n",
      "Recall : 0.8255453905700211\n"
     ]
    }
   ],
   "source": [
    "print(f'Accuracy : {accuracy_score(y_train, y1)}')\n",
    "print(f'AUC Score : {roc_auc_score(y_train, y1)}')\n",
    "print(f'F1 Score : {f1_score(y_train, y1)}')\n",
    "print(f'Precision : {precision_score(y_train, y1)}')\n",
    "print(f'Recall : {recall_score(y_train, y1)}')"
   ]
  },
  {
   "cell_type": "markdown",
   "metadata": {},
   "source": [
    "**Evaluating the results based on validation data**"
   ]
  },
  {
   "cell_type": "code",
   "execution_count": 32,
   "metadata": {},
   "outputs": [],
   "source": [
    "y2 = svc.predict(X_val)"
   ]
  },
  {
   "cell_type": "code",
   "execution_count": 33,
   "metadata": {},
   "outputs": [
    {
     "name": "stdout",
     "output_type": "stream",
     "text": [
      "Accuracy : 0.8543181818181819\n",
      "AUC Score : 0.8489809103628887\n",
      "F1 Score : 0.822240709927898\n",
      "Precision : 0.8256752993595099\n",
      "Recall : 0.8188345760839547\n"
     ]
    }
   ],
   "source": [
    "print(f'Accuracy : {accuracy_score(y_val, y2)}')\n",
    "print(f'AUC Score : {roc_auc_score(y_val, y2)}')\n",
    "print(f'F1 Score : {f1_score(y_val, y2)}')\n",
    "print(f'Precision : {precision_score(y_val, y2)}')\n",
    "print(f'Recall : {recall_score(y_val, y2)}')"
   ]
  },
  {
   "cell_type": "markdown",
   "metadata": {},
   "source": [
    "**Comparing the Training and Validation Results**"
   ]
  },
  {
   "cell_type": "code",
   "execution_count": 40,
   "metadata": {},
   "outputs": [
    {
     "data": {
      "image/png": "[encoded data removed]",
      "text/plain": [
       "<Figure size 864x432 with 1 Axes>"
      ]
     },
     "metadata": {
      "needs_background": "light"
     },
     "output_type": "display_data"
    }
   ],
   "source": [
    "plt.figure(figsize=(12,6))\n",
    "barWidth = 0.3\n",
    "\n",
    "bars1 = [accuracy_score(y_train, y1), roc_auc_score(y_train, y1), f1_score(y_train, y1), precision_score(y_train, y1), recall_score(y_train, y1)]\n",
    "bars2 = [accuracy_score(y_val, y2), roc_auc_score(y_val, y2), f1_score(y_val, y2), precision_score(y_val, y2), recall_score(y_val, y2)]\n",
    " \n",
    "r1 = np.arange(len(bars1))\n",
    "r2 = [x + barWidth for x in r1]\n",
    " \n",
    "plt.bar(r1, bars1, width = barWidth, color = (0.3,0.5,0.4,0.6), capsize=7, label='Training')\n",
    " \n",
    "plt.bar(r2, bars2, width = barWidth, color = (0.3,0.9,0.4,0.6), capsize=7, label='Validation')\n",
    "\n",
    "plt.xticks([r + barWidth for r in range(len(bars1))], ['Accuracy', 'ROC-AUC', 'F1 Score', 'Precision', 'Recall'])\n",
    "plt.ylabel('Score')\n",
    "plt.legend(loc = 'best')\n",
    " \n",
    "plt.show()\n"
   ]
  },
  {
   "cell_type": "markdown",
   "metadata": {},
   "source": [
    "**Saving the trained SVM Model**"
   ]
  },
  {
   "cell_type": "code",
   "execution_count": 39,
   "metadata": {},
   "outputs": [
    {
     "data": {
      "text/plain": [
       "['svc.pkl']"
      ]
     },
     "execution_count": 39,
     "metadata": {},
     "output_type": "execute_result"
    }
   ],
   "source": [
    "import joblib\n",
    "joblib.dump(svc, 'svc.pkl', compress=1) "
   ]
  }
 ],
 "metadata": {
  "kernelspec": {
   "display_name": "Python 3",
   "language": "python",
   "name": "python3"
  },
  "language_info": {
   "codemirror_mode": {
    "name": "ipython",
    "version": 3
   },
   "file_extension": ".py",
   "mimetype": "text/x-python",
   "name": "python",
   "nbconvert_exporter": "python",
   "pygments_lexer": "ipython3",
   "version": "3.8.3"
  }
 },
 "nbformat": 4,
 "nbformat_minor": 4
}
