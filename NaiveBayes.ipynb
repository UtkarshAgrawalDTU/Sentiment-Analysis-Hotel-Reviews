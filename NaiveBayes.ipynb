{
 "cells": [
  {
   "cell_type": "markdown",
   "metadata": {},
   "source": [
    "# Naive Bayes"
   ]
  },
  {
   "cell_type": "markdown",
   "metadata": {},
   "source": [
    "**Importing necessary libraries**"
   ]
  },
  {
   "cell_type": "code",
   "execution_count": 1,
   "metadata": {},
   "outputs": [],
   "source": [
    "import numpy as np\n",
    "import pandas as pd\n",
    "from sklearn.model_selection import train_test_split\n",
    "import matplotlib.pyplot as plt"
   ]
  },
  {
   "cell_type": "markdown",
   "metadata": {},
   "source": [
    "**Loading the preprocessed dataset**"
   ]
  },
  {
   "cell_type": "code",
   "execution_count": 2,
   "metadata": {},
   "outputs": [],
   "source": [
    "reviews_df = pd.read_csv(\"preprocessed_data_max.csv\")"
   ]
  },
  {
   "cell_type": "code",
   "execution_count": 3,
   "metadata": {},
   "outputs": [],
   "source": [
    "label = \"is_bad_review\"\n",
    "ignore_cols = [label, \"review\", \"review_clean\", \"compound\"]\n",
    "features = [c for c in reviews_df.columns if c not in ignore_cols]\n",
    "\n",
    "\n",
    "X = reviews_df[features]\n",
    "y = reviews_df[label]\n",
    " \n",
    "n_features = X.shape[1]"
   ]
  },
  {
   "cell_type": "markdown",
   "metadata": {},
   "source": [
    "**Making a split for Validation Dataset**"
   ]
  },
  {
   "cell_type": "code",
   "execution_count": 4,
   "metadata": {},
   "outputs": [],
   "source": [
    "X_train, X_val, y_train, y_val = train_test_split(X, y, random_state = 42, test_size = 0.2)"
   ]
  },
  {
   "cell_type": "markdown",
   "metadata": {},
   "source": [
    "**Creating custom MNB Class**"
   ]
  },
  {
   "cell_type": "code",
   "execution_count": 5,
   "metadata": {},
   "outputs": [],
   "source": [
    "class MNB(object):\n",
    "    \n",
    "    def _init_(self):\n",
    "        self.probailities = None\n",
    "        self.parameters = None\n",
    "        self.class_labels = None\n",
    "    \n",
    "    def fit(self, X, y, alpha=1.0):\n",
    "                \n",
    "        self.class_labels = np.unique(y)\n",
    "        self.parameters = np.zeros(shape = (X.shape[1], len(self.class_labels)))\n",
    "        self.probabilities = np.zeros(shape = (len(self.class_labels),))\n",
    "        \n",
    "        for ix,label in enumerate(self.class_labels):\n",
    "            selected_class = (y == label)\n",
    "    \n",
    "            token_counts_in_label = []\n",
    "            for i in range(X.shape[1]):\n",
    "                temp = 0\n",
    "                temp += np.sum(X[selected_class, i]) + alpha     \n",
    "                token_counts_in_label.append(temp)\n",
    "            \n",
    "            total_words_in_label = X.shape[1] * alpha\n",
    "            total_words_in_label += np.sum(X[selected_class,:])\n",
    "            self.parameters[:, ix] = token_counts_in_label / total_words_in_label\n",
    "            self.probabilities[ix] = np.sum(selected_class)/len(y)\n",
    "    \n",
    "    def predict_log_likelihood(self, X):\n",
    "\n",
    "        log_parameters = np.log(self.parameters)\n",
    "        log_likelihoods = np.dot(X, log_parameters)\n",
    "        for i in range(len(log_likelihoods)):\n",
    "            for j in range(len(self.probabilities)):\n",
    "                log_likelihoods[i][j] += np.log(self.probabilities[j])\n",
    "        return log_likelihoods\n",
    "            \n",
    "    def predict(self, X):\n",
    "        print(self.probabilities)\n",
    "        log_likelihoods = self.predict_log_likelihood(X)\n",
    "        label = np.argmax(log_likelihoods, axis=1)\n",
    "        pred_y = [self.class_labels[index] for index in label]\n",
    "        \n",
    "        return pred_y"
   ]
  },
  {
   "cell_type": "code",
   "execution_count": 6,
   "metadata": {},
   "outputs": [],
   "source": [
    "nbcustom = MNB()"
   ]
  },
  {
   "cell_type": "code",
   "execution_count": 7,
   "metadata": {},
   "outputs": [],
   "source": [
    "nbcustom.fit(X_train.to_numpy(), y_train.to_numpy())"
   ]
  },
  {
   "cell_type": "code",
   "execution_count": 8,
   "metadata": {},
   "outputs": [
    {
     "name": "stdout",
     "output_type": "stream",
     "text": [
      "[0.59630682 0.40369318]\n"
     ]
    }
   ],
   "source": [
    "y1 = nbcustom.predict(X_train.to_numpy())"
   ]
  },
  {
   "cell_type": "markdown",
   "metadata": {},
   "source": [
    "**Training Results**"
   ]
  },
  {
   "cell_type": "code",
   "execution_count": 12,
   "metadata": {},
   "outputs": [
    {
     "name": "stdout",
     "output_type": "stream",
     "text": [
      "Accuracy : 0.8266477272727273\n",
      "AUC Score : 0.8134901543209979\n",
      "F1 Score : 0.7763196480938417\n",
      "Precision : 0.8101759755164499\n",
      "Recall : 0.7451794510907811\n"
     ]
    }
   ],
   "source": [
    "print(f'Accuracy : {accuracy_score(y_train, y1)}')\n",
    "print(f'AUC Score : {roc_auc_score(y_train, y1)}')\n",
    "print(f'F1 Score : {f1_score(y_train, y1)}')\n",
    "print(f'Precision : {precision_score(y_train, y1)}')\n",
    "print(f'Recall : {recall_score(y_train, y1)}')"
   ]
  },
  {
   "cell_type": "code",
   "execution_count": 13,
   "metadata": {},
   "outputs": [
    {
     "name": "stdout",
     "output_type": "stream",
     "text": [
      "[0.59630682 0.40369318]\n"
     ]
    }
   ],
   "source": [
    "y2 = nbcustom.predict(X_val.to_numpy())"
   ]
  },
  {
   "cell_type": "markdown",
   "metadata": {},
   "source": [
    "**Validation Results**"
   ]
  },
  {
   "cell_type": "code",
   "execution_count": 14,
   "metadata": {},
   "outputs": [
    {
     "name": "stdout",
     "output_type": "stream",
     "text": [
      "Accuracy : 0.8232954545454545\n",
      "AUC Score : 0.811782617531265\n",
      "F1 Score : 0.7766767198046819\n",
      "Precision : 0.8090963494913226\n",
      "Recall : 0.7467550400441867\n"
     ]
    }
   ],
   "source": [
    "print(f'Accuracy : {accuracy_score(y_val, y2)}')\n",
    "print(f'AUC Score : {roc_auc_score(y_val, y2)}')\n",
    "print(f'F1 Score : {f1_score(y_val, y2)}')\n",
    "print(f'Precision : {precision_score(y_val, y2)}')\n",
    "print(f'Recall : {recall_score(y_val, y2)}')"
   ]
  },
  {
   "cell_type": "markdown",
   "metadata": {},
   "source": [
    "**Training the dataset on Multinomial Naive Bayes Algorithm from sklearn library**"
   ]
  },
  {
   "cell_type": "code",
   "execution_count": 11,
   "metadata": {},
   "outputs": [],
   "source": [
    "from sklearn.naive_bayes import MultinomialNB"
   ]
  },
  {
   "cell_type": "code",
   "execution_count": 12,
   "metadata": {},
   "outputs": [
    {
     "data": {
      "text/plain": [
       "MultinomialNB()"
      ]
     },
     "execution_count": 12,
     "metadata": {},
     "output_type": "execute_result"
    }
   ],
   "source": [
    "nb = MultinomialNB()\n",
    "nb.fit(X_train, y_train)"
   ]
  },
  {
   "cell_type": "code",
   "execution_count": 13,
   "metadata": {},
   "outputs": [],
   "source": [
    "y1 = nb.predict(X_train)"
   ]
  },
  {
   "cell_type": "code",
   "execution_count": 10,
   "metadata": {},
   "outputs": [],
   "source": [
    "from sklearn.metrics import accuracy_score, roc_auc_score, roc_curve, f1_score,  precision_score, recall_score"
   ]
  },
  {
   "cell_type": "markdown",
   "metadata": {},
   "source": [
    "**Training Scores**"
   ]
  },
  {
   "cell_type": "code",
   "execution_count": 15,
   "metadata": {},
   "outputs": [
    {
     "name": "stdout",
     "output_type": "stream",
     "text": [
      "Accuracy : 0.8266477272727273\n",
      "AUC Score : 0.8134901543209979\n",
      "F1 Score : 0.7763196480938417\n",
      "Precision : 0.8101759755164499\n",
      "Recall : 0.7451794510907811\n"
     ]
    }
   ],
   "source": [
    "print(f'Accuracy : {accuracy_score(y_train, y1)}')\n",
    "print(f'AUC Score : {roc_auc_score(y_train, y1)}')\n",
    "print(f'F1 Score : {f1_score(y_train, y1)}')\n",
    "print(f'Precision : {precision_score(y_train, y1)}')\n",
    "print(f'Recall : {recall_score(y_train, y1)}')"
   ]
  },
  {
   "cell_type": "code",
   "execution_count": 16,
   "metadata": {},
   "outputs": [],
   "source": [
    "y2 = nb.predict(X_val)"
   ]
  },
  {
   "cell_type": "markdown",
   "metadata": {},
   "source": [
    "**Validation scores**"
   ]
  },
  {
   "cell_type": "code",
   "execution_count": 17,
   "metadata": {
    "scrolled": true
   },
   "outputs": [
    {
     "name": "stdout",
     "output_type": "stream",
     "text": [
      "Accuracy : 0.8232954545454545\n",
      "AUC Score : 0.811782617531265\n",
      "F1 Score : 0.7766767198046819\n",
      "Precision : 0.8090963494913226\n",
      "Recall : 0.7467550400441867\n"
     ]
    }
   ],
   "source": [
    "print(f'Accuracy : {accuracy_score(y_val, y2)}')\n",
    "print(f'AUC Score : {roc_auc_score(y_val, y2)}')\n",
    "print(f'F1 Score : {f1_score(y_val, y2)}')\n",
    "print(f'Precision : {precision_score(y_val, y2)}')\n",
    "print(f'Recall : {recall_score(y_val, y2)}')"
   ]
  },
  {
   "cell_type": "markdown",
   "metadata": {},
   "source": [
    "**Comparison of Training anf Validation Results**"
   ]
  },
  {
   "cell_type": "code",
   "execution_count": 15,
   "metadata": {},
   "outputs": [
    {
     "data": {
      "image/png": "[encoded data removed]",
      "text/plain": [
       "<Figure size 864x360 with 1 Axes>"
      ]
     },
     "metadata": {
      "needs_background": "light"
     },
     "output_type": "display_data"
    }
   ],
   "source": [
    "plt.figure(figsize=(12,5))\n",
    "barWidth = 0.3\n",
    "\n",
    "bars1 = [accuracy_score(y_train, y1), roc_auc_score(y_train, y1), f1_score(y_train, y1), precision_score(y_train, y1), recall_score(y_train, y1)]\n",
    "bars2 = [accuracy_score(y_val, y2), roc_auc_score(y_val, y2), f1_score(y_val, y2), precision_score(y_val, y2), recall_score(y_val, y2)]\n",
    " \n",
    "r1 = np.arange(len(bars1))\n",
    "r2 = [x + barWidth for x in r1]\n",
    " \n",
    "plt.bar(r1, bars1, width = barWidth, color = (0.3,0.5,0.4,0.6), capsize=7, label='Training')\n",
    " \n",
    "plt.bar(r2, bars2, width = barWidth, color = (0.3,0.9,0.4,0.6), capsize=7, label='Validation')\n",
    "\n",
    "plt.xticks([r + barWidth for r in range(len(bars1))], ['Accuracy', 'ROC-AUC', 'F1 Score', 'Precision', 'Recall'])\n",
    "plt.ylabel('Score')\n",
    "plt.legend(loc = 'best')\n",
    " \n",
    "plt.show()"
   ]
  },
  {
   "cell_type": "markdown",
   "metadata": {},
   "source": [
    "**Saving stored model**"
   ]
  },
  {
   "cell_type": "code",
   "execution_count": 28,
   "metadata": {},
   "outputs": [
    {
     "data": {
      "text/plain": [
       "['nb.pkl']"
      ]
     },
     "execution_count": 28,
     "metadata": {},
     "output_type": "execute_result"
    }
   ],
   "source": [
    "import joblib\n",
    "joblib.dump(nb, 'nb.pkl', compress=1) "
   ]
  }
 ],
 "metadata": {
  "kernelspec": {
   "display_name": "Python 3",
   "language": "python",
   "name": "python3"
  },
  "language_info": {
   "codemirror_mode": {
    "name": "ipython",
    "version": 3
   },
   "file_extension": ".py",
   "mimetype": "text/x-python",
   "name": "python",
   "nbconvert_exporter": "python",
   "pygments_lexer": "ipython3",
   "version": "3.8.3"
  }
 },
 "nbformat": 4,
 "nbformat_minor": 4
}
