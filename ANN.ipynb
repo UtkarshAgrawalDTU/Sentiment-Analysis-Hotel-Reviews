{
 "cells": [
  {
   "cell_type": "markdown",
   "metadata": {},
   "source": [
    "# ANN"
   ]
  },
  {
   "cell_type": "markdown",
   "metadata": {},
   "source": [
    "**Importing necessary libraries**"
   ]
  },
  {
   "cell_type": "code",
   "execution_count": 1,
   "metadata": {},
   "outputs": [],
   "source": [
    "import numpy as np\n",
    "import pandas as pd\n",
    "from sklearn.model_selection import train_test_split\n",
    "from tensorflow.keras import Sequential\n",
    "from tensorflow.keras.layers import Dense\n",
    "import matplotlib.pyplot as plt"
   ]
  },
  {
   "cell_type": "markdown",
   "metadata": {},
   "source": [
    "**Importing the preprocessed training dataset**"
   ]
  },
  {
   "cell_type": "code",
   "execution_count": 6,
   "metadata": {},
   "outputs": [],
   "source": [
    "reviews_df = pd.read_csv(\"preprocessed_data_max.csv\")"
   ]
  },
  {
   "cell_type": "code",
   "execution_count": 7,
   "metadata": {},
   "outputs": [],
   "source": [
    "import tensorflow as tf\n",
    "tf.compat.v1.disable_eager_execution()"
   ]
  },
  {
   "cell_type": "code",
   "execution_count": 8,
   "metadata": {},
   "outputs": [],
   "source": [
    "from sklearn.model_selection import cross_val_score\n",
    "from tensorflow.keras.wrappers.scikit_learn import KerasClassifier"
   ]
  },
  {
   "cell_type": "markdown",
   "metadata": {},
   "source": [
    "**The review and the review_clean feature are not of much importance here, so we will not consider them for training**"
   ]
  },
  {
   "cell_type": "code",
   "execution_count": 9,
   "metadata": {},
   "outputs": [],
   "source": [
    "label = \"is_bad_review\"\n",
    "ignore_cols = [label, \"review\", \"review_clean\"]\n",
    "features = [c for c in reviews_df.columns if c not in ignore_cols]\n",
    "\n",
    "\n",
    "X = reviews_df[features]\n",
    "y = reviews_df[label]\n",
    " \n",
    "n_features = X.shape[1]"
   ]
  },
  {
   "cell_type": "markdown",
   "metadata": {},
   "source": [
    "**We will tune the model with the help of Holdout Validation. Creating a seperate validation dataset for the same**"
   ]
  },
  {
   "cell_type": "code",
   "execution_count": 10,
   "metadata": {},
   "outputs": [],
   "source": [
    "X_train, X_val, y_train, y_val = train_test_split(X, y, random_state = 42, test_size = 0.2)"
   ]
  },
  {
   "cell_type": "markdown",
   "metadata": {},
   "source": [
    "**We will initially create an ANN with the following structure**\n",
    "<br>\n",
    "**No of hidden layers : 2**\n",
    "<br>\n",
    "**No of nodes in Hidden Layer 1 : 150**\n",
    "<br>\n",
    "**No of nodes in Hidden Layer 2 : 50**\n",
    "<br>\n",
    "**Activation Function : sigmoid**"
   ]
  },
  {
   "cell_type": "code",
   "execution_count": 7,
   "metadata": {},
   "outputs": [],
   "source": [
    "def create_model():\n",
    "    model = Sequential()\n",
    "    model.add(Dense(150, activation='sigmoid', kernel_initializer='he_normal', input_shape=(n_features,)))\n",
    "    model.add(Dense(50, activation='sigmoid', kernel_initializer='he_normal'))\n",
    "    model.add(Dense(1, activation='sigmoid'))\n",
    "    model.compile(optimizer='adam', loss='binary_crossentropy', metrics=['AUC'])\n",
    "    return model"
   ]
  },
  {
   "cell_type": "code",
   "execution_count": 8,
   "metadata": {},
   "outputs": [],
   "source": [
    "model1 = KerasClassifier(build_fn=create_model, epochs=100, batch_size = 3200, verbose=1)"
   ]
  },
  {
   "cell_type": "markdown",
   "metadata": {},
   "source": [
    "**Training the model by passing the dataset for a total of 100 times in 10 batches**"
   ]
  },
  {
   "cell_type": "code",
   "execution_count": null,
   "metadata": {
    "scrolled": true
   },
   "outputs": [],
   "source": [
    "history = model1.fit(X_train, y_train,validation_data = (X_val, y_val))"
   ]
  },
  {
   "cell_type": "markdown",
   "metadata": {},
   "source": [
    "**Variation of Training and Validation Loss with the number of Epochs**"
   ]
  },
  {
   "cell_type": "code",
   "execution_count": 11,
   "metadata": {},
   "outputs": [
    {
     "data": {
      "image/png": "[encoded data removed]",
      "text/plain": [
       "<Figure size 864x504 with 1 Axes>"
      ]
     },
     "metadata": {
      "needs_background": "light"
     },
     "output_type": "display_data"
    }
   ],
   "source": [
    "plt.figure(figsize=(12,7))\n",
    "plt.plot(history.history['loss'], color = 'blue')\n",
    "plt.plot(history.history['val_loss'], color = 'red')\n",
    "plt.title('Model Loss')\n",
    "plt.ylabel('Loss')\n",
    "plt.xlabel('epoch')\n",
    "plt.legend(['train', 'val'], loc='best')\n",
    "plt.show()"
   ]
  },
  {
   "cell_type": "markdown",
   "metadata": {},
   "source": [
    "**We observe that after a total of 30 epochs, the model starts to overfit**"
   ]
  },
  {
   "cell_type": "code",
   "execution_count": null,
   "metadata": {
    "scrolled": true
   },
   "outputs": [],
   "source": [
    "model1 = KerasClassifier(build_fn=create_model, epochs=30, batch_size = 3200)\n",
    "history = model1.fit(X_train, y_train)"
   ]
  },
  {
   "cell_type": "markdown",
   "metadata": {},
   "source": [
    "**Saving the trained ANN**"
   ]
  },
  {
   "cell_type": "code",
   "execution_count": 13,
   "metadata": {},
   "outputs": [
    {
     "name": "stdout",
     "output_type": "stream",
     "text": [
      "INFO:tensorflow:Assets written to: ann1\\assets\n"
     ]
    }
   ],
   "source": [
    "ann1 = model1.model\n",
    "ann1.save('ann1')"
   ]
  },
  {
   "cell_type": "markdown",
   "metadata": {},
   "source": [
    "**We will now create an ANN with the following structure**\n",
    "<br>\n",
    "**No of hidden layers : 2**\n",
    "<br>\n",
    "**No of nodes in Hidden Layer 1 : 300**\n",
    "<br>\n",
    "**No of nodes in Hidden Layer 2 : 100**\n",
    "<br>\n",
    "**Activation Function : sigmoid**"
   ]
  },
  {
   "cell_type": "code",
   "execution_count": 14,
   "metadata": {},
   "outputs": [],
   "source": [
    "def create_model():\n",
    "    model = Sequential()\n",
    "    model.add(Dense(300, activation='sigmoid', kernel_initializer='he_normal', input_shape=(n_features,)))\n",
    "    model.add(Dense(100, activation='sigmoid', kernel_initializer='he_normal'))\n",
    "    model.add(Dense(1, activation='sigmoid'))\n",
    "    model.compile(optimizer='adam', loss='binary_crossentropy', metrics=['AUC'])\n",
    "    return model"
   ]
  },
  {
   "cell_type": "markdown",
   "metadata": {},
   "source": [
    "**Training the ANN**"
   ]
  },
  {
   "cell_type": "code",
   "execution_count": null,
   "metadata": {
    "scrolled": true
   },
   "outputs": [],
   "source": [
    "model2 = KerasClassifier(build_fn=create_model, epochs=100, batch_size = 3200, verbose=1)\n",
    "history = model2.fit(X_train, y_train,validation_data = (X_val, y_val))"
   ]
  },
  {
   "cell_type": "markdown",
   "metadata": {},
   "source": [
    "**Variation of Training and Validation Loss with the number of Epochs**"
   ]
  },
  {
   "cell_type": "code",
   "execution_count": 21,
   "metadata": {},
   "outputs": [
    {
     "data": {
      "image/png": "[encoded data removed]",
      "text/plain": [
       "<Figure size 864x504 with 1 Axes>"
      ]
     },
     "metadata": {
      "needs_background": "light"
     },
     "output_type": "display_data"
    }
   ],
   "source": [
    "plt.figure(figsize=(12,7))\n",
    "plt.plot(history.history['loss'], color = 'blue')\n",
    "plt.plot(history.history['val_loss'], color = 'red')\n",
    "plt.title('Model Loss')\n",
    "plt.ylabel('Loss')\n",
    "plt.xlabel('epoch')\n",
    "plt.legend(['train', 'val'], loc='best')\n",
    "plt.show()"
   ]
  },
  {
   "cell_type": "markdown",
   "metadata": {},
   "source": [
    "**We observe that after a total of 23 epochs, the model starts to overfit**"
   ]
  },
  {
   "cell_type": "code",
   "execution_count": null,
   "metadata": {
    "scrolled": true
   },
   "outputs": [],
   "source": [
    "model2 = KerasClassifier(build_fn=create_model, epochs=23, batch_size = 3200)\n",
    "history = model2.fit(X_train, y_train)"
   ]
  },
  {
   "cell_type": "markdown",
   "metadata": {},
   "source": [
    "**Saving the Trained ANN**"
   ]
  },
  {
   "cell_type": "code",
   "execution_count": 18,
   "metadata": {},
   "outputs": [
    {
     "name": "stdout",
     "output_type": "stream",
     "text": [
      "INFO:tensorflow:Assets written to: ann2\\assets\n"
     ]
    }
   ],
   "source": [
    "ann2 = model2.model\n",
    "ann2.save('ann2')"
   ]
  },
  {
   "cell_type": "markdown",
   "metadata": {},
   "source": [
    "**We will now create an ANN with the following structure**\n",
    "<br>\n",
    "**No of hidden layers : 1**\n",
    "<br>\n",
    "**No of nodes in Hidden Layer : 180**\n",
    "<br>\n",
    "**Activation Function : sigmoid**"
   ]
  },
  {
   "cell_type": "code",
   "execution_count": 39,
   "metadata": {},
   "outputs": [],
   "source": [
    "def create_model():\n",
    "    model = Sequential()\n",
    "    model.add(Dense(180, activation='sigmoid', kernel_initializer='he_normal', input_shape=(n_features,)))\n",
    "    model.add(Dense(1, activation='sigmoid'))\n",
    "    model.compile(optimizer='adam', loss='binary_crossentropy', metrics=['AUC'])\n",
    "    return model"
   ]
  },
  {
   "cell_type": "markdown",
   "metadata": {},
   "source": [
    "**Training the ANN**"
   ]
  },
  {
   "cell_type": "code",
   "execution_count": null,
   "metadata": {
    "scrolled": true
   },
   "outputs": [],
   "source": [
    "model3 = KerasClassifier(build_fn=create_model, epochs=100, batch_size = 3200, verbose=1)\n",
    "history = model3.fit(X_train, y_train,validation_data = (X_val, y_val))"
   ]
  },
  {
   "cell_type": "markdown",
   "metadata": {},
   "source": [
    "**Variation of Training and Validation Loss with the number of Epochs**"
   ]
  },
  {
   "cell_type": "code",
   "execution_count": 45,
   "metadata": {},
   "outputs": [
    {
     "data": {
      "image/png": "[encoded data removed]",
      "text/plain": [
       "<Figure size 864x504 with 1 Axes>"
      ]
     },
     "metadata": {
      "needs_background": "light"
     },
     "output_type": "display_data"
    }
   ],
   "source": [
    "plt.figure(figsize=(12,7))\n",
    "plt.plot(history.history['loss'], color = 'blue')\n",
    "plt.plot(history.history['val_loss'], color = 'red')\n",
    "plt.title('Model Loss')\n",
    "plt.ylabel('Loss')\n",
    "plt.xlabel('epoch')\n",
    "plt.legend(['train', 'val'], loc='best')\n",
    "plt.show()"
   ]
  },
  {
   "cell_type": "markdown",
   "metadata": {},
   "source": [
    "**We observe that after a total of 46 epochs, the model starts to overfit**"
   ]
  },
  {
   "cell_type": "code",
   "execution_count": null,
   "metadata": {
    "scrolled": true
   },
   "outputs": [],
   "source": [
    "model3 = KerasClassifier(build_fn=create_model, epochs=46, batch_size = 3200)\n",
    "history = model3.fit(X_train, y_train)"
   ]
  },
  {
   "cell_type": "markdown",
   "metadata": {},
   "source": [
    "**Saving the Trained ANN**"
   ]
  },
  {
   "cell_type": "code",
   "execution_count": 23,
   "metadata": {},
   "outputs": [
    {
     "name": "stdout",
     "output_type": "stream",
     "text": [
      "INFO:tensorflow:Assets written to: ann3\\assets\n"
     ]
    }
   ],
   "source": [
    "ann3 = model3.model\n",
    "ann3.save('ann3')"
   ]
  },
  {
   "cell_type": "markdown",
   "metadata": {},
   "source": [
    "**We will now create an ANN with the following structure**\n",
    "<br>\n",
    "**No of hidden layers : 1**\n",
    "<br>\n",
    "**No of nodes in Hidden Layer : 600**\n",
    "<br>\n",
    "**Activation Function : sigmoid**"
   ]
  },
  {
   "cell_type": "code",
   "execution_count": 28,
   "metadata": {},
   "outputs": [],
   "source": [
    "def create_model():\n",
    "    model = Sequential()\n",
    "    model.add(Dense(600, activation='sigmoid', kernel_initializer='he_normal', input_shape=(n_features,)))\n",
    "    model.add(Dense(1, activation='sigmoid'))\n",
    "    model.compile(optimizer='adam', loss='binary_crossentropy', metrics=['AUC'])\n",
    "    return model"
   ]
  },
  {
   "cell_type": "markdown",
   "metadata": {},
   "source": [
    "**Training the ANN**"
   ]
  },
  {
   "cell_type": "code",
   "execution_count": null,
   "metadata": {
    "scrolled": true
   },
   "outputs": [],
   "source": [
    "model4 = KerasClassifier(build_fn=create_model, epochs=100, batch_size = 3200, verbose=1)\n",
    "history = model4.fit(X_train, y_train,validation_data = (X_val, y_val))"
   ]
  },
  {
   "cell_type": "markdown",
   "metadata": {},
   "source": [
    "**Variation of Training and Validation Loss with the number of Epochs**"
   ]
  },
  {
   "cell_type": "code",
   "execution_count": 30,
   "metadata": {},
   "outputs": [
    {
     "data": {
      "image/png": "[encoded data removed]",
      "text/plain": [
       "<Figure size 864x504 with 1 Axes>"
      ]
     },
     "metadata": {
      "needs_background": "light"
     },
     "output_type": "display_data"
    }
   ],
   "source": [
    "plt.figure(figsize=(12,7))\n",
    "plt.plot(history.history['loss'], color = 'blue')\n",
    "plt.plot(history.history['val_loss'], color = 'red')\n",
    "plt.title('Model Loss')\n",
    "plt.ylabel('Loss')\n",
    "plt.xlabel('epoch')\n",
    "plt.legend(['train', 'val'], loc='best')\n",
    "plt.show()"
   ]
  },
  {
   "cell_type": "markdown",
   "metadata": {},
   "source": [
    "**We observe that after a total of 30 epochs, the model starts to overfit**"
   ]
  },
  {
   "cell_type": "code",
   "execution_count": null,
   "metadata": {},
   "outputs": [],
   "source": [
    "model4 = KerasClassifier(build_fn=create_model, epochs=30, batch_size = 3200)\n",
    "history = model4.fit(X_train, y_train)"
   ]
  },
  {
   "cell_type": "markdown",
   "metadata": {},
   "source": [
    "**Saving the Trained ANN**"
   ]
  },
  {
   "cell_type": "code",
   "execution_count": 34,
   "metadata": {},
   "outputs": [
    {
     "name": "stdout",
     "output_type": "stream",
     "text": [
      "INFO:tensorflow:Assets written to: ann4\\assets\n"
     ]
    }
   ],
   "source": [
    "ann4 = model4.model\n",
    "ann4.save('ann4')"
   ]
  },
  {
   "cell_type": "markdown",
   "metadata": {},
   "source": [
    "**We will now create an ANN with the following structure**\n",
    "<br>\n",
    "**No of hidden layers : 1**\n",
    "<br>\n",
    "**No of nodes in Hidden Layer: 1000**\n",
    "<br>\n",
    "**Activation Function : sigmoid**"
   ]
  },
  {
   "cell_type": "code",
   "execution_count": 32,
   "metadata": {},
   "outputs": [],
   "source": [
    "def create_model():\n",
    "    model = Sequential()\n",
    "    model.add(Dense(1000, activation='sigmoid', kernel_initializer='he_normal', input_shape=(n_features,)))\n",
    "    model.add(Dense(1, activation='sigmoid'))\n",
    "    model.compile(optimizer='adam', loss='binary_crossentropy', metrics=['AUC'])\n",
    "    return model"
   ]
  },
  {
   "cell_type": "markdown",
   "metadata": {},
   "source": [
    "**Training the ANN**"
   ]
  },
  {
   "cell_type": "code",
   "execution_count": null,
   "metadata": {
    "scrolled": true
   },
   "outputs": [],
   "source": [
    "model5 = KerasClassifier(build_fn=create_model, epochs=100, batch_size = 3200, verbose=1)\n",
    "history = model5.fit(X_train, y_train,validation_data = (X_val, y_val))"
   ]
  },
  {
   "cell_type": "markdown",
   "metadata": {},
   "source": [
    "**Variation of Training and Validation Loss with the number of Epochs**"
   ]
  },
  {
   "cell_type": "code",
   "execution_count": 37,
   "metadata": {},
   "outputs": [
    {
     "data": {
      "image/png": "[encoded data removed]",
      "text/plain": [
       "<Figure size 864x504 with 1 Axes>"
      ]
     },
     "metadata": {
      "needs_background": "light"
     },
     "output_type": "display_data"
    }
   ],
   "source": [
    "plt.figure(figsize=(12,7))\n",
    "plt.plot(history.history['loss'], color = 'blue')\n",
    "plt.plot(history.history['val_loss'], color = 'red')\n",
    "plt.title('Model Loss')\n",
    "plt.ylabel('Loss')\n",
    "plt.xlabel('epoch')\n",
    "plt.legend(['train', 'val'], loc='best')\n",
    "plt.show()"
   ]
  },
  {
   "cell_type": "markdown",
   "metadata": {},
   "source": [
    "**We observe that after a total of 27 epochs, the model starts to overfit**"
   ]
  },
  {
   "cell_type": "code",
   "execution_count": null,
   "metadata": {
    "scrolled": true
   },
   "outputs": [],
   "source": [
    "model5 = KerasClassifier(build_fn=create_model, epochs=27, batch_size = 3200)\n",
    "history = model5.fit(X_train, y_train)"
   ]
  },
  {
   "cell_type": "markdown",
   "metadata": {},
   "source": [
    "**Saving the Trained ANN**"
   ]
  },
  {
   "cell_type": "code",
   "execution_count": 39,
   "metadata": {},
   "outputs": [
    {
     "name": "stdout",
     "output_type": "stream",
     "text": [
      "INFO:tensorflow:Assets written to: ann5\\assets\n"
     ]
    }
   ],
   "source": [
    "ann5 = model5.model\n",
    "ann5.save('ann5')"
   ]
  },
  {
   "cell_type": "markdown",
   "metadata": {},
   "source": [
    "**We will now create an ANN with the following structure**\n",
    "<br>\n",
    "**No of hidden layers : 1**\n",
    "<br>\n",
    "**No of nodes in Hidden Layer 1 : 1500**\n",
    "<br>\n",
    "**Activation Function : sigmoid**"
   ]
  },
  {
   "cell_type": "code",
   "execution_count": 60,
   "metadata": {},
   "outputs": [],
   "source": [
    "def create_model():\n",
    "    model = Sequential()\n",
    "    model.add(Dense(1500, activation='sigmoid', kernel_initializer='he_normal', input_shape=(n_features,)))\n",
    "    model.add(Dense(1, activation='sigmoid'))\n",
    "    model.compile(optimizer='adam', loss='binary_crossentropy', metrics=['AUC'])\n",
    "    return model"
   ]
  },
  {
   "cell_type": "markdown",
   "metadata": {},
   "source": [
    "**Training the ANN**"
   ]
  },
  {
   "cell_type": "code",
   "execution_count": null,
   "metadata": {
    "scrolled": true
   },
   "outputs": [],
   "source": [
    "model6 = KerasClassifier(build_fn=create_model, epochs=100, batch_size = 3200, verbose=1)\n",
    "history = model6.fit(X_train, y_train,validation_data = (X_val, y_val))"
   ]
  },
  {
   "cell_type": "markdown",
   "metadata": {},
   "source": [
    "**Variation of Training and Validation Loss with the number of Epochs**"
   ]
  },
  {
   "cell_type": "code",
   "execution_count": 62,
   "metadata": {},
   "outputs": [
    {
     "data": {
      "image/png": "[encoded data removed]",
      "text/plain": [
       "<Figure size 864x504 with 1 Axes>"
      ]
     },
     "metadata": {
      "needs_background": "light"
     },
     "output_type": "display_data"
    }
   ],
   "source": [
    "plt.figure(figsize=(12,7))\n",
    "plt.plot(history.history['loss'], color = 'blue')\n",
    "plt.plot(history.history['val_loss'], color = 'red')\n",
    "plt.title('Model Loss')\n",
    "plt.ylabel('Loss')\n",
    "plt.xlabel('epoch')\n",
    "plt.legend(['train', 'val'], loc='best')\n",
    "plt.show()"
   ]
  },
  {
   "cell_type": "markdown",
   "metadata": {},
   "source": [
    "**We observe that after a total of 26 epochs, the model starts to overfit**"
   ]
  },
  {
   "cell_type": "code",
   "execution_count": null,
   "metadata": {
    "scrolled": true
   },
   "outputs": [],
   "source": [
    "model6 = KerasClassifier(build_fn=create_model, epochs=26, batch_size = 3200)\n",
    "history = model6.fit(X_train, y_train)"
   ]
  },
  {
   "cell_type": "markdown",
   "metadata": {},
   "source": [
    "**Saving the Trained ANN**"
   ]
  },
  {
   "cell_type": "code",
   "execution_count": 64,
   "metadata": {},
   "outputs": [
    {
     "name": "stdout",
     "output_type": "stream",
     "text": [
      "INFO:tensorflow:Assets written to: ann6\\assets\n"
     ]
    }
   ],
   "source": [
    "ann6 = model6.model\n",
    "ann6.save('ann6')"
   ]
  },
  {
   "cell_type": "code",
   "execution_count": 65,
   "metadata": {},
   "outputs": [],
   "source": [
    "from tensorflow import keras\n",
    "ann1 = keras.models.load_model('ann1')\n",
    "ann2 = keras.models.load_model('ann2')\n",
    "ann3 = keras.models.load_model('ann3')\n",
    "ann4 = keras.models.load_model('ann4')\n",
    "ann5 = keras.models.load_model('ann5')\n",
    "ann6 = keras.models.load_model('ann6')"
   ]
  },
  {
   "cell_type": "code",
   "execution_count": 67,
   "metadata": {},
   "outputs": [],
   "source": [
    "y1 = ann1.predict(X_val)\n",
    "y2 = ann2.predict(X_val)\n",
    "y3 = ann3.predict(X_val)\n",
    "y4 = ann4.predict(X_val)\n",
    "y5 = ann5.predict(X_val)\n",
    "y6 = ann6.predict(X_val)\n",
    "\n",
    "for i in range(len(y1)):\n",
    "    if y1[i]<0.5:\n",
    "        y1[i] = 0\n",
    "    else:\n",
    "        y1[i] = 1\n",
    "\n",
    "for i in range(len(y2)):\n",
    "    if y2[i]<0.5:\n",
    "        y2[i] = 0\n",
    "    else:\n",
    "        y2[i] = 1\n",
    "        \n",
    "for i in range(len(y3)):\n",
    "    if y3[i]<0.5:\n",
    "        y3[i] = 0\n",
    "    else:\n",
    "        y3[i] = 1\n",
    "\n",
    "for i in range(len(y4)):\n",
    "    if y4[i]<0.5:\n",
    "        y4[i] = 0\n",
    "    else:\n",
    "        y4[i] = 1\n",
    "        \n",
    "for i in range(len(y5)):\n",
    "    if y5[i]<0.5:\n",
    "        y5[i] = 0\n",
    "    else:\n",
    "        y5[i] = 1\n",
    "        \n",
    "for i in range(len(y6)):\n",
    "    if y6[i]<0.5:\n",
    "        y6[i] = 0\n",
    "    else:\n",
    "        y6[i] = 1"
   ]
  },
  {
   "cell_type": "code",
   "execution_count": 19,
   "metadata": {},
   "outputs": [],
   "source": [
    "from sklearn.metrics import accuracy_score, roc_auc_score, roc_curve, f1_score,  precision_score, recall_score"
   ]
  },
  {
   "cell_type": "code",
   "execution_count": 68,
   "metadata": {},
   "outputs": [
    {
     "data": {
      "image/png": "[encoded data removed]",
      "text/plain": [
       "<Figure size 864x432 with 1 Axes>"
      ]
     },
     "metadata": {
      "needs_background": "light"
     },
     "output_type": "display_data"
    }
   ],
   "source": [
    "plt.figure(figsize=(12,6))\n",
    "barWidth = 0.1\n",
    "\n",
    "bars1 = [accuracy_score(y_val, y1), roc_auc_score(y_val, y1), f1_score(y_val, y1), precision_score(y_val, y1), recall_score(y_val, y1)]\n",
    "bars2 = [accuracy_score(y_val, y2), roc_auc_score(y_val, y2), f1_score(y_val, y2), precision_score(y_val, y2), recall_score(y_val, y2)]\n",
    "bars3 = [accuracy_score(y_val, y3), roc_auc_score(y_val, y3), f1_score(y_val, y3), precision_score(y_val, y3), recall_score(y_val, y3)]\n",
    "bars4 = [accuracy_score(y_val, y4), roc_auc_score(y_val, y4), f1_score(y_val, y4), precision_score(y_val, y4), recall_score(y_val, y4)]\n",
    "bars5 = [accuracy_score(y_val, y5), roc_auc_score(y_val, y5), f1_score(y_val, y5), precision_score(y_val, y5), recall_score(y_val, y5)]\n",
    "bars6 = [accuracy_score(y_val, y6), roc_auc_score(y_val, y6), f1_score(y_val, y6), precision_score(y_val, y6), recall_score(y_val, y6)]\n",
    "\n",
    "\n",
    " \n",
    "r1 = np.arange(len(bars1))\n",
    "r2 = [x + barWidth for x in r1]\n",
    "r3 = [x + 2*barWidth for x in r1]\n",
    "r4 = [x + 3*barWidth for x in r1]\n",
    "r5 = [x + 4*barWidth for x in r1]\n",
    "r6 = [x + 5*barWidth for x in r1]\n",
    "\n",
    "\n",
    "\n",
    "plt.bar(r1, bars1, width = barWidth, color = (0.3,0.5,0.4,0.6), capsize=7, label='1')\n",
    "plt.bar(r2, bars2, width = barWidth, color = (0.3,0.9,0.4,0.6), capsize=7, label='2')\n",
    "plt.bar(r3, bars3, width = barWidth, color = (0.3,0.5,0.4,0.6), capsize=7, label='3')\n",
    "plt.bar(r4, bars4, width = barWidth, color = (0.3,0.9,0.4,0.6), capsize=7, label='4')\n",
    "plt.bar(r5, bars5, width = barWidth, color = (0.3,0.5,0.4,0.6), capsize=7, label='5')\n",
    "plt.bar(r6, bars6, width = barWidth, color = (0.3,0.9,0.4,0.6), capsize=7, label='6')\n",
    "\n",
    "\n",
    "plt.xticks([r + barWidth for r in range(len(bars1))], ['Accuracy', 'ROC-AUC', 'F1 Score', 'Precision', 'Recall'])\n",
    "plt.ylabel('Score')\n",
    "\n",
    "plt.show()\n"
   ]
  },
  {
   "cell_type": "markdown",
   "metadata": {},
   "source": [
    "**It was found that that fifth ANN model performed the best overall**"
   ]
  }
 ],
 "metadata": {
  "kernelspec": {
   "display_name": "Python 3",
   "language": "python",
   "name": "python3"
  },
  "language_info": {
   "codemirror_mode": {
    "name": "ipython",
    "version": 3
   },
   "file_extension": ".py",
   "mimetype": "text/x-python",
   "name": "python",
   "nbconvert_exporter": "python",
   "pygments_lexer": "ipython3",
   "version": "3.8.3"
  }
 },
 "nbformat": 4,
 "nbformat_minor": 4
}
