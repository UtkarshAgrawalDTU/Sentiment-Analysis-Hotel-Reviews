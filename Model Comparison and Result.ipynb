{
 "cells": [
  {
   "cell_type": "markdown",
   "metadata": {},
   "source": [
    "# Testing Results and Model Comparison"
   ]
  },
  {
   "cell_type": "markdown",
   "metadata": {},
   "source": [
    "**Importing necessary libraries**"
   ]
  },
  {
   "cell_type": "code",
   "execution_count": 1,
   "metadata": {},
   "outputs": [],
   "source": [
    "import numpy as np\n",
    "import pandas as pd\n",
    "from sklearn.model_selection import train_test_split\n",
    "from sklearn.metrics import confusion_matrix, roc_auc_score\n",
    "import matplotlib.pyplot as plt\n",
    "import joblib\n",
    "from tensorflow import keras\n",
    "from preprocess_script import *\n",
    "from sklearn.metrics import accuracy_score, roc_auc_score, roc_curve, f1_score,  precision_score, recall_score"
   ]
  },
  {
   "cell_type": "markdown",
   "metadata": {},
   "source": [
    "**Loading trained models**"
   ]
  },
  {
   "cell_type": "code",
   "execution_count": 2,
   "metadata": {},
   "outputs": [],
   "source": [
    "rfc = joblib.load('rfc.pkl')\n",
    "svc = joblib.load('svc.pkl')\n",
    "nb = joblib.load('nb.pkl')\n",
    "ann = keras.models.load_model('ann5')"
   ]
  },
  {
   "cell_type": "markdown",
   "metadata": {},
   "source": [
    "**Reading test dataset**"
   ]
  },
  {
   "cell_type": "code",
   "execution_count": 3,
   "metadata": {},
   "outputs": [],
   "source": [
    "test = pd.read_csv('test.csv')"
   ]
  },
  {
   "cell_type": "code",
   "execution_count": 4,
   "metadata": {},
   "outputs": [],
   "source": [
    "test = preprocess(test)"
   ]
  },
  {
   "cell_type": "code",
   "execution_count": 5,
   "metadata": {},
   "outputs": [],
   "source": [
    "label = \"is_bad_review\"\n",
    "ignore_cols = [label, \"review\", \"review_clean\"]\n",
    "features = [c for c in test.columns if c not in ignore_cols]\n",
    "\n",
    "X_test = test[features]\n",
    "y_test = test[label]"
   ]
  },
  {
   "cell_type": "markdown",
   "metadata": {},
   "source": [
    "**Test results for Random Forest**"
   ]
  },
  {
   "cell_type": "code",
   "execution_count": 6,
   "metadata": {},
   "outputs": [],
   "source": [
    "y_rfc = rfc.predict(X_test)"
   ]
  },
  {
   "cell_type": "code",
   "execution_count": 7,
   "metadata": {},
   "outputs": [
    {
     "name": "stdout",
     "output_type": "stream",
     "text": [
      "Accuracy : 0.8424545454545455\n",
      "AUC Score : 0.832262629728107\n",
      "F1 Score : 0.7999999999999999\n",
      "Precision : 0.8223013048635824\n",
      "Recall : 0.778876404494382\n"
     ]
    }
   ],
   "source": [
    "print(f'Accuracy : {accuracy_score(y_test, y_rfc)}')\n",
    "print(f'AUC Score : {roc_auc_score(y_test, y_rfc)}')\n",
    "print(f'F1 Score : {f1_score(y_test, y_rfc)}')\n",
    "print(f'Precision : {precision_score(y_test, y_rfc)}')\n",
    "print(f'Recall : {recall_score(y_test, y_rfc)}')"
   ]
  },
  {
   "cell_type": "markdown",
   "metadata": {},
   "source": [
    "**Test results for Support Vector Classifier**"
   ]
  },
  {
   "cell_type": "code",
   "execution_count": 8,
   "metadata": {},
   "outputs": [],
   "source": [
    "y_svc = svc.predict(X_test)"
   ]
  },
  {
   "cell_type": "code",
   "execution_count": 9,
   "metadata": {},
   "outputs": [
    {
     "name": "stdout",
     "output_type": "stream",
     "text": [
      "Accuracy : 0.8567272727272728\n",
      "AUC Score : 0.851271978728879\n",
      "F1 Score : 0.8228815464149247\n",
      "Precision : 0.82306654676259\n",
      "Recall : 0.8226966292134832\n"
     ]
    }
   ],
   "source": [
    "print(f'Accuracy : {accuracy_score(y_test, y_svc)}')\n",
    "print(f'AUC Score : {roc_auc_score(y_test, y_svc)}')\n",
    "print(f'F1 Score : {f1_score(y_test, y_svc)}')\n",
    "print(f'Precision : {precision_score(y_test, y_svc)}')\n",
    "print(f'Recall : {recall_score(y_test, y_svc)}')"
   ]
  },
  {
   "cell_type": "markdown",
   "metadata": {},
   "source": [
    "**Test Results for Multinomial Naive Bayes**"
   ]
  },
  {
   "cell_type": "code",
   "execution_count": 10,
   "metadata": {},
   "outputs": [],
   "source": [
    "y_nb = nb.predict(X_test.drop('compound', axis = 1))"
   ]
  },
  {
   "cell_type": "code",
   "execution_count": 11,
   "metadata": {},
   "outputs": [
    {
     "name": "stdout",
     "output_type": "stream",
     "text": [
      "Accuracy : 0.8181818181818182\n",
      "AUC Score : 0.8056128312891329\n",
      "F1 Score : 0.7670083876980429\n",
      "Precision : 0.7963231736816643\n",
      "Recall : 0.7397752808988765\n"
     ]
    }
   ],
   "source": [
    "print(f'Accuracy : {accuracy_score(y_test, y_nb)}')\n",
    "print(f'AUC Score : {roc_auc_score(y_test, y_nb)}')\n",
    "print(f'F1 Score : {f1_score(y_test, y_nb)}')\n",
    "print(f'Precision : {precision_score(y_test, y_nb)}')\n",
    "print(f'Recall : {recall_score(y_test, y_nb)}')"
   ]
  },
  {
   "cell_type": "markdown",
   "metadata": {},
   "source": [
    "**Test results for ANN**"
   ]
  },
  {
   "cell_type": "code",
   "execution_count": 12,
   "metadata": {},
   "outputs": [],
   "source": [
    "y_ann = ann.predict(X_test)\n",
    "        \n",
    "for i in range(len(y_ann)):\n",
    "    if y_ann[i]<0.5:\n",
    "        y_ann[i] = 0\n",
    "    else:\n",
    "        y_ann[i] = 1"
   ]
  },
  {
   "cell_type": "code",
   "execution_count": 13,
   "metadata": {},
   "outputs": [
    {
     "name": "stdout",
     "output_type": "stream",
     "text": [
      "Accuracy : 0.8572727272727273\n",
      "AUC Score : 0.8531709409040226\n",
      "F1 Score : 0.8250111457868925\n",
      "Precision : 0.8184431667403803\n",
      "Recall : 0.8316853932584269\n"
     ]
    }
   ],
   "source": [
    "print(f'Accuracy : {accuracy_score(y_test, y_ann)}')\n",
    "print(f'AUC Score : {roc_auc_score(y_test, y_ann)}')\n",
    "print(f'F1 Score : {f1_score(y_test, y_ann)}')\n",
    "print(f'Precision : {precision_score(y_test, y_ann)}')\n",
    "print(f'Recall : {recall_score(y_test, y_ann)}')"
   ]
  },
  {
   "cell_type": "markdown",
   "metadata": {},
   "source": [
    "**Table of all the computed results**"
   ]
  },
  {
   "cell_type": "code",
   "execution_count": 14,
   "metadata": {},
   "outputs": [
    {
     "name": "stdout",
     "output_type": "stream",
     "text": [
      "\t \t Accuracy \t ROC-AUC \t F1 Score \t Precision \t Recall\n",
      "Random Forest \t 0.8425 \t 0.8323 \t 0.8 \t \t 0.8223 \t 0.7789\n",
      "SVC \t \t 0.8567 \t 0.8513 \t 0.8229 \t 0.8231 \t 0.8227\n",
      "Naive Bayes \t 0.8182 \t 0.8056 \t 0.767 \t \t 0.7963 \t 0.7398\n",
      "ANN \t\t 0.8573 \t 0.8532 \t 0.825 \t \t 0.8184 \t 0.8317\n"
     ]
    }
   ],
   "source": [
    "print('\\t \\t Accuracy \\t ROC-AUC \\t F1 Score \\t Precision \\t Recall')\n",
    "print(f'Random Forest \\t {round(accuracy_score(y_test, y_rfc), 4)} \\t {round(roc_auc_score(y_test, y_rfc), 4)} \\t {round(f1_score(y_test, y_rfc), 4)} \\t \\t {round(precision_score(y_test, y_rfc), 4)} \\t {round(recall_score(y_test, y_rfc),4)}')\n",
    "\n",
    "print(f'SVC \\t \\t {round(accuracy_score(y_test, y_svc), 4)} \\t {round(roc_auc_score(y_test, y_svc), 4)} \\t {round(f1_score(y_test, y_svc), 4)} \\t {round(precision_score(y_test, y_svc), 4)} \\t {round(recall_score(y_test, y_svc),4)}')\n",
    "\n",
    "print(f'Naive Bayes \\t {round(accuracy_score(y_test, y_nb), 4)} \\t {round(roc_auc_score(y_test, y_nb), 4)} \\t {round(f1_score(y_test, y_nb), 4)} \\t \\t {round(precision_score(y_test, y_nb), 4)} \\t {round(recall_score(y_test, y_nb),4)}')\n",
    "\n",
    "print(f'ANN \\t\\t {round(accuracy_score(y_test, y_ann), 4)} \\t {round(roc_auc_score(y_test, y_ann), 4)} \\t {round(f1_score(y_test, y_ann), 4)} \\t \\t {round(precision_score(y_test, y_ann), 4)} \\t {round(recall_score(y_test, y_ann),4)}')"
   ]
  },
  {
   "cell_type": "code",
   "execution_count": null,
   "metadata": {},
   "outputs": [],
   "source": []
  }
 ],
 "metadata": {
  "kernelspec": {
   "display_name": "Python 3",
   "language": "python",
   "name": "python3"
  },
  "language_info": {
   "codemirror_mode": {
    "name": "ipython",
    "version": 3
   },
   "file_extension": ".py",
   "mimetype": "text/x-python",
   "name": "python",
   "nbconvert_exporter": "python",
   "pygments_lexer": "ipython3",
   "version": "3.8.3"
  }
 },
 "nbformat": 4,
 "nbformat_minor": 4
}
